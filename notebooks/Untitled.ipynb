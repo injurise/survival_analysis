{
 "cells": [
  {
   "cell_type": "code",
   "execution_count": 38,
   "id": "debc484c",
   "metadata": {},
   "outputs": [],
   "source": [
    "X = np.array([[1,2,3],[4,5,6]])\n",
    "tb = np.array([[1],[2]])\n",
    "e = np.array([[1],[0]])\n",
    "    "
   ]
  },
  {
   "cell_type": "code",
   "execution_count": 43,
   "id": "ba877b65",
   "metadata": {},
   "outputs": [],
   "source": [
    "from sksurv.metrics import concordance_index_censored"
   ]
  },
  {
   "cell_type": "code",
   "execution_count": 39,
   "id": "383dd1b9",
   "metadata": {},
   "outputs": [],
   "source": [
    "import torch\n",
    "from torch.utils.data import Dataset, DataLoader\n",
    "import numpy as np\n",
    "\n",
    "class surv_dataset(Dataset):\n",
    "    def __init__(self,X,tb,e):\n",
    "        super().__init__()\n",
    "        self.X = torch.from_numpy(X).float()\n",
    "        self.tb = torch.from_numpy(tb).float()\n",
    "        self.e = torch.from_numpy(e).float()\n",
    "\n",
    "    def __getitem__(self, i):\n",
    "        return self.X[i] , {'tb1':self.tb[i], 'e':self.e[i]}\n",
    "\n",
    "    def __len__(self):\n",
    "        return len(self.X)\n",
    "\n",
    "ds = M(X,tb,e)\n",
    "dl = DataLoader(ds, batch_size=2)"
   ]
  },
  {
   "cell_type": "code",
   "execution_count": 44,
   "id": "36991e3d",
   "metadata": {},
   "outputs": [],
   "source": [
    "for i,(inp,target) in enumerate(dl):\n",
    "    e = target[\"e\"]\n",
    "    t = target[\"tb1\"]\n",
    "    d = inp"
   ]
  },
  {
   "cell_type": "code",
   "execution_count": 42,
   "id": "8b0d3466",
   "metadata": {},
   "outputs": [
    {
     "data": {
      "text/plain": [
       "array([ True, False])"
      ]
     },
     "execution_count": 42,
     "metadata": {},
     "output_type": "execute_result"
    }
   ],
   "source": [
    "e.detach().numpy().astype(bool).reshape(-1)"
   ]
  },
  {
   "cell_type": "code",
   "execution_count": 47,
   "id": "f1bd590a",
   "metadata": {},
   "outputs": [],
   "source": [
    "pmu = np.full((3, 2), 0.5)"
   ]
  },
  {
   "cell_type": "code",
   "execution_count": 48,
   "id": "8a68a7c8",
   "metadata": {},
   "outputs": [
    {
     "data": {
      "text/plain": [
       "array([0.5, 0.5])"
      ]
     },
     "execution_count": 48,
     "metadata": {},
     "output_type": "execute_result"
    }
   ],
   "source": []
  },
  {
   "cell_type": "code",
   "execution_count": null,
   "id": "24c93bfd",
   "metadata": {},
   "outputs": [],
   "source": [
    "concordance_index_censored(e.detach().numpy().astype(bool).reshape(-1)),tb.detach().numpy().astype(bool).reshape(-1),\n"
   ]
  },
  {
   "cell_type": "code",
   "execution_count": null,
   "id": "95cc0043",
   "metadata": {},
   "outputs": [],
   "source": [
    "class Dataset(torch.utils.data.Dataset):\n",
    "\n",
    "    def __init__(self, X, y, scale_data=False):\n",
    "        if not torch.is_tensor(X) and not torch.is_tensor(y):\n",
    "            if scale_data:\n",
    "                X = StandardScaler().fit_transform(X)\n",
    "            self.X = torch.from_numpy(X).float()\n",
    "            self.y = torch.from_numpy(y).float()\n",
    "\n",
    "    def __len__(self):\n",
    "        return len(self.X)\n",
    "\n",
    "    def __getitem__(self, i):\n",
    "        return self.X[i], self.y[i]\n",
    "\n"
   ]
  }
 ],
 "metadata": {
  "kernelspec": {
   "display_name": "PyCharm (survival_analysis)",
   "language": "python",
   "name": "pycharm-3638621"
  },
  "language_info": {
   "codemirror_mode": {
    "name": "ipython",
    "version": 3
   },
   "file_extension": ".py",
   "mimetype": "text/x-python",
   "name": "python",
   "nbconvert_exporter": "python",
   "pygments_lexer": "ipython3",
   "version": "3.8.12"
  }
 },
 "nbformat": 4,
 "nbformat_minor": 5
}
