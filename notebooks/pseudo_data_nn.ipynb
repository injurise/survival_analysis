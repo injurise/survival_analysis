{
 "cells": [
  {
   "cell_type": "code",
   "execution_count": 24,
   "id": "e4586ada",
   "metadata": {
    "pycharm": {
     "is_executing": true
    }
   },
   "outputs": [],
   "source": [
    "import numpy as np\n",
    "import pandas as pd\n",
    "import matplotlib.pyplot as plt\n",
    "from sksurv.nonparametric import kaplan_meier_estimator\n",
    "from sksurv.linear_model import CoxPHSurvivalAnalysis\n",
    "from sksurv.datasets import load_veterans_lung_cancer\n",
    "from sksurv.metrics import brier_score\n",
    "\n",
    "from sklearn.preprocessing import StandardScaler\n",
    "from sklearn_pandas import DataFrameMapper\n",
    "from sklearn.metrics import mean_squared_error\n",
    "\n",
    "import pycox\n",
    "import torch\n",
    "from torch import nn\n",
    "import torchtuples as tt\n",
    "\n",
    "from pycox.datasets import metabric\n",
    "from pycox.models import CoxPH\n",
    "from pycox.evaluation import EvalSurv\n",
    "\n",
    "\n",
    "from src.data_prep.torch_datasets import Dataset\n",
    "from src.models.train_torch_net import train_torch_net\n",
    "from configs.model_configs import BDNN_Zhang\n",
    "\n",
    "\n",
    "from sksurv.metrics import (\n",
    "    concordance_index_censored,\n",
    "    concordance_index_ipcw,\n",
    "    cumulative_dynamic_auc,\n",
    "    integrated_brier_score,\n",
    ")\n",
    "\n",
    "from laplace import Laplace\n"
   ]
  },
  {
   "cell_type": "code",
   "execution_count": 5,
   "id": "8295620e",
   "metadata": {},
   "outputs": [
    {
     "data": {
      "text/html": [
       "<div>\n",
       "<style scoped>\n",
       "    .dataframe tbody tr th:only-of-type {\n",
       "        vertical-align: middle;\n",
       "    }\n",
       "\n",
       "    .dataframe tbody tr th {\n",
       "        vertical-align: top;\n",
       "    }\n",
       "\n",
       "    .dataframe thead th {\n",
       "        text-align: right;\n",
       "    }\n",
       "</style>\n",
       "<table border=\"1\" class=\"dataframe\">\n",
       "  <thead>\n",
       "    <tr style=\"text-align: right;\">\n",
       "      <th></th>\n",
       "      <th>X1</th>\n",
       "      <th>X2</th>\n",
       "      <th>X3</th>\n",
       "      <th>y</th>\n",
       "      <th>failed</th>\n",
       "      <th>pseudo</th>\n",
       "      <th>tpseudo</th>\n",
       "      <th>id</th>\n",
       "    </tr>\n",
       "  </thead>\n",
       "  <tbody>\n",
       "    <tr>\n",
       "      <th>0</th>\n",
       "      <td>0.446645</td>\n",
       "      <td>0.017643</td>\n",
       "      <td>0.298416</td>\n",
       "      <td>21</td>\n",
       "      <td>True</td>\n",
       "      <td>1.000724</td>\n",
       "      <td>2.0</td>\n",
       "      <td>1</td>\n",
       "    </tr>\n",
       "    <tr>\n",
       "      <th>1</th>\n",
       "      <td>0.446645</td>\n",
       "      <td>0.017643</td>\n",
       "      <td>0.298416</td>\n",
       "      <td>21</td>\n",
       "      <td>True</td>\n",
       "      <td>1.001876</td>\n",
       "      <td>3.0</td>\n",
       "      <td>1</td>\n",
       "    </tr>\n",
       "    <tr>\n",
       "      <th>2</th>\n",
       "      <td>0.446645</td>\n",
       "      <td>0.017643</td>\n",
       "      <td>0.298416</td>\n",
       "      <td>21</td>\n",
       "      <td>True</td>\n",
       "      <td>1.004832</td>\n",
       "      <td>5.0</td>\n",
       "      <td>1</td>\n",
       "    </tr>\n",
       "    <tr>\n",
       "      <th>3</th>\n",
       "      <td>0.446645</td>\n",
       "      <td>0.017643</td>\n",
       "      <td>0.298416</td>\n",
       "      <td>21</td>\n",
       "      <td>True</td>\n",
       "      <td>1.010563</td>\n",
       "      <td>11.0</td>\n",
       "      <td>1</td>\n",
       "    </tr>\n",
       "    <tr>\n",
       "      <th>4</th>\n",
       "      <td>0.446645</td>\n",
       "      <td>0.017643</td>\n",
       "      <td>0.298416</td>\n",
       "      <td>21</td>\n",
       "      <td>True</td>\n",
       "      <td>-0.055363</td>\n",
       "      <td>27.0</td>\n",
       "      <td>1</td>\n",
       "    </tr>\n",
       "    <tr>\n",
       "      <th>...</th>\n",
       "      <td>...</td>\n",
       "      <td>...</td>\n",
       "      <td>...</td>\n",
       "      <td>...</td>\n",
       "      <td>...</td>\n",
       "      <td>...</td>\n",
       "      <td>...</td>\n",
       "      <td>...</td>\n",
       "    </tr>\n",
       "    <tr>\n",
       "      <th>8995</th>\n",
       "      <td>-0.241216</td>\n",
       "      <td>0.495190</td>\n",
       "      <td>0.116989</td>\n",
       "      <td>174</td>\n",
       "      <td>True</td>\n",
       "      <td>1.019840</td>\n",
       "      <td>27.0</td>\n",
       "      <td>1000</td>\n",
       "    </tr>\n",
       "    <tr>\n",
       "      <th>8996</th>\n",
       "      <td>-0.241216</td>\n",
       "      <td>0.495190</td>\n",
       "      <td>0.116989</td>\n",
       "      <td>174</td>\n",
       "      <td>True</td>\n",
       "      <td>1.033707</td>\n",
       "      <td>88.0</td>\n",
       "      <td>1000</td>\n",
       "    </tr>\n",
       "    <tr>\n",
       "      <th>8997</th>\n",
       "      <td>-0.241216</td>\n",
       "      <td>0.495190</td>\n",
       "      <td>0.116989</td>\n",
       "      <td>174</td>\n",
       "      <td>True</td>\n",
       "      <td>-0.082001</td>\n",
       "      <td>185.0</td>\n",
       "      <td>1000</td>\n",
       "    </tr>\n",
       "    <tr>\n",
       "      <th>8998</th>\n",
       "      <td>-0.241216</td>\n",
       "      <td>0.495190</td>\n",
       "      <td>0.116989</td>\n",
       "      <td>174</td>\n",
       "      <td>True</td>\n",
       "      <td>-0.056356</td>\n",
       "      <td>256.0</td>\n",
       "      <td>1000</td>\n",
       "    </tr>\n",
       "    <tr>\n",
       "      <th>8999</th>\n",
       "      <td>-0.241216</td>\n",
       "      <td>0.495190</td>\n",
       "      <td>0.116989</td>\n",
       "      <td>174</td>\n",
       "      <td>True</td>\n",
       "      <td>-0.028716</td>\n",
       "      <td>292.0</td>\n",
       "      <td>1000</td>\n",
       "    </tr>\n",
       "  </tbody>\n",
       "</table>\n",
       "<p>9000 rows × 8 columns</p>\n",
       "</div>"
      ],
      "text/plain": [
       "            X1        X2        X3    y  failed    pseudo  tpseudo    id\n",
       "0     0.446645  0.017643  0.298416   21    True  1.000724      2.0     1\n",
       "1     0.446645  0.017643  0.298416   21    True  1.001876      3.0     1\n",
       "2     0.446645  0.017643  0.298416   21    True  1.004832      5.0     1\n",
       "3     0.446645  0.017643  0.298416   21    True  1.010563     11.0     1\n",
       "4     0.446645  0.017643  0.298416   21    True -0.055363     27.0     1\n",
       "...        ...       ...       ...  ...     ...       ...      ...   ...\n",
       "8995 -0.241216  0.495190  0.116989  174    True  1.019840     27.0  1000\n",
       "8996 -0.241216  0.495190  0.116989  174    True  1.033707     88.0  1000\n",
       "8997 -0.241216  0.495190  0.116989  174    True -0.082001    185.0  1000\n",
       "8998 -0.241216  0.495190  0.116989  174    True -0.056356    256.0  1000\n",
       "8999 -0.241216  0.495190  0.116989  174    True -0.028716    292.0  1000\n",
       "\n",
       "[9000 rows x 8 columns]"
      ]
     },
     "execution_count": 5,
     "metadata": {},
     "output_type": "execute_result"
    }
   ],
   "source": [
    "survival_pseudo_data = pd.read_csv(\"/Users/alexandermollers/Documents/GitHub/survival_analysis/data/surv_pseudo_data.csv\")\n",
    "survival_pseudo_data"
   ]
  },
  {
   "cell_type": "code",
   "execution_count": 7,
   "id": "1163c85a",
   "metadata": {},
   "outputs": [],
   "source": [
    "X = survival_pseudo_data[[\"X1\",\"X2\",\"X3\",\"tpseudo\"]].values\n",
    "y = survival_pseudo_data[[\"pseudo\"]].values\n",
    "\n",
    "dataset = Dataset(X, y)\n",
    "trainloader = torch.utils.data.DataLoader(dataset, batch_size=10, shuffle=True, num_workers=1)\n"
   ]
  },
  {
   "cell_type": "code",
   "execution_count": 35,
   "id": "6d3952fc",
   "metadata": {},
   "outputs": [],
   "source": [
    "nn_zhang = BDNN_Zhang()\n",
    "\n",
    "# Define the loss function and optimizer\n",
    "loss_function = nn.MSELoss()\n",
    "trained_nn, loss = train_torch_net(dataset,neural_net=nn_zhang,loss_function=loss_function,n_epochs=50)"
   ]
  },
  {
   "cell_type": "code",
   "execution_count": 20,
   "id": "2d49c46d",
   "metadata": {},
   "outputs": [
    {
     "name": "stderr",
     "output_type": "stream",
     "text": [
      "/Users/alexandermollers/.conda/envs/survival_analysis/lib/python3.8/site-packages/backpack/extensions/backprop_extension.py:106: UserWarning: Extension saving to grad_batch does not have an extension for Module <class 'configs.model_configs.BDNN_Zhang'> although the module has parameters\n",
      "  warnings.warn(\n"
     ]
    }
   ],
   "source": [
    "la_nn = Laplace(trained_nn, 'regression', subset_of_weights='all', hessian_structure='full')\n",
    "la_nn.fit(trainloader)\n",
    "log_prior, log_sigma = torch.ones(1, requires_grad=True), torch.ones(1, requires_grad=True)\n",
    "hyper_optimizer = torch.optim.Adam([log_prior, log_sigma], lr=1e-1)\n",
    "for i in range(50):\n",
    "    hyper_optimizer.zero_grad()\n",
    "    neg_marglik = - la_nn.log_marginal_likelihood(log_prior.exp(), log_sigma.exp())\n",
    "    neg_marglik.backward()\n",
    "    hyper_optimizer.step()"
   ]
  },
  {
   "cell_type": "code",
   "execution_count": 22,
   "id": "e051b3f0",
   "metadata": {},
   "outputs": [],
   "source": [
    "f_mu, f_var = la_nn(dataset.X)\n",
    "f_mu = f_mu.squeeze().detach().cpu().numpy()\n",
    "f_sigma = f_var.squeeze().sqrt().cpu().numpy()\n",
    "pred_std = np.sqrt(f_sigma ** 2 + la_nn.sigma_noise.item() ** 2)"
   ]
  },
  {
   "cell_type": "code",
   "execution_count": 29,
   "id": "2e1d1df6",
   "metadata": {},
   "outputs": [],
   "source": [
    "nn_pred = trained_nn(dataset.X)\n",
    "nn_pred = nn_pred.squeeze().detach().cpu().numpy()"
   ]
  },
  {
   "cell_type": "code",
   "execution_count": 25,
   "id": "4b4684da",
   "metadata": {},
   "outputs": [
    {
     "data": {
      "text/plain": [
       "0.20985746216890544"
      ]
     },
     "execution_count": 25,
     "metadata": {},
     "output_type": "execute_result"
    }
   ],
   "source": [
    "mean_squared_error(y,f_mu)"
   ]
  },
  {
   "cell_type": "code",
   "execution_count": 30,
   "id": "96d2e7b5",
   "metadata": {},
   "outputs": [
    {
     "data": {
      "text/plain": [
       "0.20985746216890544"
      ]
     },
     "execution_count": 30,
     "metadata": {},
     "output_type": "execute_result"
    }
   ],
   "source": [
    "mean_squared_error(y,nn_pred)"
   ]
  },
  {
   "cell_type": "code",
   "execution_count": 34,
   "id": "82c12267",
   "metadata": {},
   "outputs": [
    {
     "data": {
      "text/plain": [
       "9000"
      ]
     },
     "execution_count": 34,
     "metadata": {},
     "output_type": "execute_result"
    }
   ],
   "source": []
  }
 ],
 "metadata": {
  "kernelspec": {
   "display_name": "PyCharm (survival_analysis)",
   "language": "python",
   "name": "pycharm-3638621"
  },
  "language_info": {
   "codemirror_mode": {
    "name": "ipython",
    "version": 3
   },
   "file_extension": ".py",
   "mimetype": "text/x-python",
   "name": "python",
   "nbconvert_exporter": "python",
   "pygments_lexer": "ipython3",
   "version": "3.8.12"
  }
 },
 "nbformat": 4,
 "nbformat_minor": 5
}