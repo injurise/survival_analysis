{
 "cells": [
  {
   "cell_type": "markdown",
   "metadata": {},
   "source": [
    "## First Exploration Notebook "
   ]
  },
  {
   "cell_type": "code",
   "execution_count": 60,
   "metadata": {},
   "outputs": [
    {
     "name": "stdout",
     "output_type": "stream",
     "text": [
      "Populating the interactive namespace from numpy and matplotlib\n"
     ]
    }
   ],
   "source": [
    "import numpy as np\n",
    "import pandas as pd\n",
    "import pysurvival\n",
    "from pysurvival.models.simulations import SimulationModel\n",
    "from notebook_utils import eval_object\n",
    "from pysurvival.utils.display import display_baseline_simulations\n",
    "\n",
    "import sys\n",
    "sys.path.insert(1, '../auton-survival/')\n",
    "from auton_survival import DeepCoxPH\n",
    "\n",
    "import warnings\n",
    "warnings.filterwarnings('ignore')\n",
    "%pylab inline\n"
   ]
  },
  {
   "cell_type": "markdown",
   "metadata": {},
   "source": [
    "## Preliminaries"
   ]
  },
  {
   "cell_type": "markdown",
   "metadata": {},
   "source": [
    "In this Notebook I compare model performance on simulated survival data of four models:\n",
    "- Cox-Regression\n",
    "- Random Survival Forest\n",
    "- CoxPH (Deep Surv) as implemented by the Auton Lab\n",
    "- A BNN created from the CoxPH model with the Bayesian-Torch library\n",
    "\n",
    "Notes on the models:\n",
    "- Right now the CoxPH model splits up some validation data (0.15) from the training data, the other models\n",
    "  train on the complete training data.\n",
    "- I have only created the \"train\" step for the BNN right now and not the \"test step\", I need to read a bit            more to be able to do this correctly in bayesian-torch with the partial likelihood.  \n",
    "\n",
    "Notes on the simulated data:\n",
    "- I simulated data from the different risk models (the part of the prop model that only depends on the   \n",
    "  covariates):\n",
    "     - Linear: $r(x) = e^{\\beta * x}$\n",
    "     - Gaussian: $r(x) = e^{e^{-(\\beta * x)^{2} * riskparam}}$\n",
    "     - Squared: $r(x) = e^{riskparam * (\\beta * x)^{2}}$\n",
    "- I vary the degrees of censoring. Generally the censoring distribution is a normal with mean at the censored parameter that is given in the simulation function.\n",
    "\n",
    "- The \"number of events\" displayed after the simulation is the number of not censored data points.\n",
    "\n",
    "- I change the survival distribution sometimes, but it is not particularly relevant for risk estimation under proportional hazard. I do plot it so that one gets an idea of the data and censoring relationship.\n",
    "\n",
    "- I included one experiment in the end with multiple variables\n",
    "\n",
    "Metric:\n",
    "\n",
    "- I used the concordance index to compare the models. To summarise: 0.5 is random and higher is better ;)\n",
    "    - It seems to be widely used and should do the job for now. In case I work more on this I can start to include       additional metrics. \n",
    "\n",
    "Results:\n",
    "\n",
    "- Linear Model: Cox Regression + NN + BNN usually outperform trees\n",
    "- Gaussian Model: RSF + NN + BNN outperform Cox Regression\n",
    "    - Trees are overfitting a lot - maybe this could be handled with a validation set\n",
    "    - None of the estimators seems to do particularly well on this dataset \n",
    "- Squared Model: NNs + BNNs outperform RSF and Cox regression\n",
    "    - Neural Networks seem to do much better than the other models\n",
    "    - I included one simulation without any censored data points to show that the function is learnable\n",
    "\n",
    "Additional Notes: \n",
    "\n",
    "- I  haven't done anything with uncertainty yet, while I am able to get things like \"predictive \n",
    "  entropy\" from the BNN I am not entirely sure what they mean yet and will take the rest of the week to \n",
    "  read up on this"
   ]
  },
  {
   "cell_type": "markdown",
   "metadata": {},
   "source": [
    "## Model Evaluation with Linear Hazard Function"
   ]
  },
  {
   "cell_type": "code",
   "execution_count": 75,
   "metadata": {},
   "outputs": [
    {
     "name": "stdout",
     "output_type": "stream",
     "text": [
      "Number of data-points: 1000 - Number of events: 615.0\n",
      "Number of data-points: 200 - Number of events: 110.0\n"
     ]
    }
   ],
   "source": [
    "\n",
    "# Initializing the simulation model\n",
    "lin_sim = SimulationModel(survival_distribution = 'exponential',\n",
    "                       risk_type = 'linear',\n",
    "                       censored_parameter = 100.0,\n",
    "                       risk_parameter = 100,\n",
    "                       alpha = 0.01,\n",
    "                       beta = 5., )\n",
    "N = 1000\n",
    "linear_data_train=lin_sim.generate_data(num_samples = N, num_features=2).astype(float32)\n",
    "linear_data_test=lin_sim.generate_data(num_samples = int(0.2*N), num_features=2).astype(float32)"
   ]
  },
  {
   "cell_type": "code",
   "execution_count": 76,
   "metadata": {},
   "outputs": [
    {
     "data": {
      "image/png": "[encoded data removed]",
      "text/plain": [
       "<Figure size 1440x432 with 1 Axes>"
      ]
     },
     "metadata": {
      "needs_background": "light"
     },
     "output_type": "display_data"
    }
   ],
   "source": [
    "display_baseline_simulations(lin_sim, figure_size=(20, 6))"
   ]
  },
  {
   "cell_type": "code",
   "execution_count": 77,
   "metadata": {},
   "outputs": [
    {
     "name": "stderr",
     "output_type": "stream",
     "text": [
      "100%|██████████| 50/50 [00:00<00:00, 152.43it/s]\n",
      "100%|██████████| 50/50 [00:00<00:00, 153.21it/s]\n"
     ]
    },
    {
     "data": {
      "text/html": [
       "<div>\n",
       "<style scoped>\n",
       "    .dataframe tbody tr th:only-of-type {\n",
       "        vertical-align: middle;\n",
       "    }\n",
       "\n",
       "    .dataframe tbody tr th {\n",
       "        vertical-align: top;\n",
       "    }\n",
       "\n",
       "    .dataframe thead th {\n",
       "        text-align: right;\n",
       "    }\n",
       "</style>\n",
       "<table border=\"1\" class=\"dataframe\">\n",
       "  <thead>\n",
       "    <tr style=\"text-align: right;\">\n",
       "      <th></th>\n",
       "      <th>train_conc</th>\n",
       "      <th>test_conc</th>\n",
       "    </tr>\n",
       "  </thead>\n",
       "  <tbody>\n",
       "    <tr>\n",
       "      <th>lin_coxph</th>\n",
       "      <td>0.784144</td>\n",
       "      <td>0.811623</td>\n",
       "    </tr>\n",
       "    <tr>\n",
       "      <th>lin_rsf</th>\n",
       "      <td>0.870393</td>\n",
       "      <td>0.779359</td>\n",
       "    </tr>\n",
       "    <tr>\n",
       "      <th>lin_deepcox</th>\n",
       "      <td>0.783755</td>\n",
       "      <td>0.812004</td>\n",
       "    </tr>\n",
       "    <tr>\n",
       "      <th>lin_deepbnn</th>\n",
       "      <td>0.783295</td>\n",
       "      <td>0.810352</td>\n",
       "    </tr>\n",
       "  </tbody>\n",
       "</table>\n",
       "</div>"
      ],
      "text/plain": [
       "             train_conc  test_conc\n",
       "lin_coxph      0.784144   0.811623\n",
       "lin_rsf        0.870393   0.779359\n",
       "lin_deepcox    0.783755   0.812004\n",
       "lin_deepbnn    0.783295   0.810352"
      ]
     },
     "execution_count": 77,
     "metadata": {},
     "output_type": "execute_result"
    }
   ],
   "source": [
    "lin_data = eval_object(linear_data_train,linear_data_test,\"lin\")\n",
    "lin_data.standscale_columns()\n",
    "lin_data.fit_all_models()\n",
    "lin_data.get_metrics()\n"
   ]
  },
  {
   "cell_type": "markdown",
   "metadata": {},
   "source": [
    "## Model evaluation with Gaussian Hazard Function"
   ]
  },
  {
   "cell_type": "code",
   "execution_count": 57,
   "metadata": {},
   "outputs": [
    {
     "name": "stdout",
     "output_type": "stream",
     "text": [
      "Number of data-points: 2000 - Number of events: 1461.0\n",
      "Number of data-points: 400 - Number of events: 284.0\n"
     ]
    }
   ],
   "source": [
    "gau_sim = SimulationModel(survival_distribution = 'Log-Normal',\n",
    "                       risk_type = 'gaussian',risk_parameter = 10,\n",
    "                       censored_parameter = 5.0)\n",
    "\n",
    "N= 2000\n",
    "\n",
    "gaussian_data_train = gau_sim.generate_data(num_samples = N, num_features=2).astype(\"float32\")\n",
    "gaussian_data_test = gau_sim.generate_data(num_samples = int(0.2*N), num_features=2).astype(\"float32\")\n"
   ]
  },
  {
   "cell_type": "code",
   "execution_count": 58,
   "metadata": {},
   "outputs": [
    {
     "data": {
      "image/png": "[encoded data removed]",
      "text/plain": [
       "<Figure size 1440x432 with 1 Axes>"
      ]
     },
     "metadata": {
      "needs_background": "light"
     },
     "output_type": "display_data"
    }
   ],
   "source": [
    "display_baseline_simulations(gau_sim, figure_size=(20, 6))"
   ]
  },
  {
   "cell_type": "code",
   "execution_count": 59,
   "metadata": {},
   "outputs": [
    {
     "name": "stderr",
     "output_type": "stream",
     "text": [
      " 10%|█         | 5/50 [00:00<00:00, 62.75it/s]\n",
      " 74%|███████▍  | 37/50 [00:00<00:00, 75.68it/s]\n"
     ]
    },
    {
     "data": {
      "text/html": [
       "<div>\n",
       "<style scoped>\n",
       "    .dataframe tbody tr th:only-of-type {\n",
       "        vertical-align: middle;\n",
       "    }\n",
       "\n",
       "    .dataframe tbody tr th {\n",
       "        vertical-align: top;\n",
       "    }\n",
       "\n",
       "    .dataframe thead th {\n",
       "        text-align: right;\n",
       "    }\n",
       "</style>\n",
       "<table border=\"1\" class=\"dataframe\">\n",
       "  <thead>\n",
       "    <tr style=\"text-align: right;\">\n",
       "      <th></th>\n",
       "      <th>train_conc</th>\n",
       "      <th>test_conc</th>\n",
       "    </tr>\n",
       "  </thead>\n",
       "  <tbody>\n",
       "    <tr>\n",
       "      <th>gau_coxph</th>\n",
       "      <td>0.523342</td>\n",
       "      <td>0.532841</td>\n",
       "    </tr>\n",
       "    <tr>\n",
       "      <th>gau_rsf</th>\n",
       "      <td>0.765924</td>\n",
       "      <td>0.595032</td>\n",
       "    </tr>\n",
       "    <tr>\n",
       "      <th>gau_deepcox</th>\n",
       "      <td>0.555656</td>\n",
       "      <td>0.565416</td>\n",
       "    </tr>\n",
       "    <tr>\n",
       "      <th>gau_deepbnn</th>\n",
       "      <td>0.566312</td>\n",
       "      <td>0.600931</td>\n",
       "    </tr>\n",
       "  </tbody>\n",
       "</table>\n",
       "</div>"
      ],
      "text/plain": [
       "             train_conc  test_conc\n",
       "gau_coxph      0.523342   0.532841\n",
       "gau_rsf        0.765924   0.595032\n",
       "gau_deepcox    0.555656   0.565416\n",
       "gau_deepbnn    0.566312   0.600931"
      ]
     },
     "execution_count": 59,
     "metadata": {},
     "output_type": "execute_result"
    }
   ],
   "source": [
    "gau_data = eval_object(gaussian_data_train,gaussian_data_test,\"gau\")\n",
    "gau_data.standscale_columns()\n",
    "gau_data.fit_all_models()\n",
    "gau_data.get_metrics()"
   ]
  },
  {
   "cell_type": "markdown",
   "metadata": {},
   "source": [
    "## Model evaluation with squared Hazard Function"
   ]
  },
  {
   "cell_type": "code",
   "execution_count": 90,
   "metadata": {},
   "outputs": [
    {
     "name": "stdout",
     "output_type": "stream",
     "text": [
      "Number of data-points: 2000 - Number of events: 2000.0\n",
      "Number of data-points: 800 - Number of events: 800.0\n",
      "Number of data-points: 2000 - Number of events: 1186.0\n",
      "Number of data-points: 800 - Number of events: 476.0\n"
     ]
    }
   ],
   "source": [
    "sq_sim = SimulationModel(survival_distribution = 'exponential',\n",
    "                       risk_type = 'square',\n",
    "                       censored_parameter = 100.0,\n",
    "                       risk_parameter = 100)\n",
    "\n",
    "sq_sim_cen = SimulationModel(survival_distribution = 'exponential',\n",
    "                       risk_type = 'square',\n",
    "                       censored_parameter = 1,\n",
    "                       risk_parameter = 10)\n",
    "N = 2000\n",
    "\n",
    "sq_data_train = sq_sim.generate_data(num_samples = N, num_features=2).astype(\"float32\")\n",
    "sq_data_test = sq_sim.generate_data(num_samples = int(0.4*N), num_features=2).astype(\"float32\")\n",
    "\n",
    "\n",
    "sq_data_train_cen = sq_sim_cen.generate_data(num_samples = N, num_features=2).astype(\"float32\")\n",
    "sq_data_test_cen = sq_sim_cen.generate_data(num_samples = int(0.4*N), num_features=2).astype(\"float32\")\n",
    "\n"
   ]
  },
  {
   "cell_type": "code",
   "execution_count": 91,
   "metadata": {},
   "outputs": [
    {
     "data": {
      "image/png": "[encoded data removed]",
      "text/plain": [
       "<Figure size 1440x432 with 1 Axes>"
      ]
     },
     "metadata": {
      "needs_background": "light"
     },
     "output_type": "display_data"
    }
   ],
   "source": [
    "display_baseline_simulations(sq_sim, figure_size=(20, 6))"
   ]
  },
  {
   "cell_type": "code",
   "execution_count": 92,
   "metadata": {},
   "outputs": [
    {
     "name": "stderr",
     "output_type": "stream",
     "text": [
      " 98%|█████████▊| 49/50 [00:00<00:00, 82.38it/s]\n",
      " 46%|████▌     | 23/50 [00:00<00:00, 74.82it/s]\n"
     ]
    },
    {
     "data": {
      "text/html": [
       "<div>\n",
       "<style scoped>\n",
       "    .dataframe tbody tr th:only-of-type {\n",
       "        vertical-align: middle;\n",
       "    }\n",
       "\n",
       "    .dataframe tbody tr th {\n",
       "        vertical-align: top;\n",
       "    }\n",
       "\n",
       "    .dataframe thead th {\n",
       "        text-align: right;\n",
       "    }\n",
       "</style>\n",
       "<table border=\"1\" class=\"dataframe\">\n",
       "  <thead>\n",
       "    <tr style=\"text-align: right;\">\n",
       "      <th></th>\n",
       "      <th>train_conc</th>\n",
       "      <th>test_conc</th>\n",
       "    </tr>\n",
       "  </thead>\n",
       "  <tbody>\n",
       "    <tr>\n",
       "      <th>sq_coxph</th>\n",
       "      <td>0.508876</td>\n",
       "      <td>0.587805</td>\n",
       "    </tr>\n",
       "    <tr>\n",
       "      <th>sq_rsf</th>\n",
       "      <td>0.496356</td>\n",
       "      <td>0.392857</td>\n",
       "    </tr>\n",
       "    <tr>\n",
       "      <th>sq_deepcox</th>\n",
       "      <td>0.962595</td>\n",
       "      <td>0.958199</td>\n",
       "    </tr>\n",
       "    <tr>\n",
       "      <th>sq_deepbnn</th>\n",
       "      <td>0.891790</td>\n",
       "      <td>0.843628</td>\n",
       "    </tr>\n",
       "  </tbody>\n",
       "</table>\n",
       "</div>"
      ],
      "text/plain": [
       "            train_conc  test_conc\n",
       "sq_coxph      0.508876   0.587805\n",
       "sq_rsf        0.496356   0.392857\n",
       "sq_deepcox    0.962595   0.958199\n",
       "sq_deepbnn    0.891790   0.843628"
      ]
     },
     "execution_count": 92,
     "metadata": {},
     "output_type": "execute_result"
    }
   ],
   "source": [
    "sq_data = eval_object(sq_data_train,sq_data_test,\"sq\")\n",
    "sq_data.standscale_columns()\n",
    "sq_data.fit_all_models()\n",
    "sq_data.get_metrics()"
   ]
  },
  {
   "cell_type": "code",
   "execution_count": 93,
   "metadata": {},
   "outputs": [
    {
     "name": "stderr",
     "output_type": "stream",
     "text": [
      " 72%|███████▏  | 36/50 [00:00<00:00, 81.32it/s]\n",
      " 46%|████▌     | 23/50 [00:00<00:00, 74.50it/s]\n"
     ]
    },
    {
     "data": {
      "text/html": [
       "<div>\n",
       "<style scoped>\n",
       "    .dataframe tbody tr th:only-of-type {\n",
       "        vertical-align: middle;\n",
       "    }\n",
       "\n",
       "    .dataframe tbody tr th {\n",
       "        vertical-align: top;\n",
       "    }\n",
       "\n",
       "    .dataframe thead th {\n",
       "        text-align: right;\n",
       "    }\n",
       "</style>\n",
       "<table border=\"1\" class=\"dataframe\">\n",
       "  <thead>\n",
       "    <tr style=\"text-align: right;\">\n",
       "      <th></th>\n",
       "      <th>train_conc</th>\n",
       "      <th>test_conc</th>\n",
       "    </tr>\n",
       "  </thead>\n",
       "  <tbody>\n",
       "    <tr>\n",
       "      <th>sq_coxph</th>\n",
       "      <td>0.508876</td>\n",
       "      <td>0.587805</td>\n",
       "    </tr>\n",
       "    <tr>\n",
       "      <th>sq_rsf</th>\n",
       "      <td>0.513094</td>\n",
       "      <td>0.441657</td>\n",
       "    </tr>\n",
       "    <tr>\n",
       "      <th>sq_deepcox</th>\n",
       "      <td>0.946935</td>\n",
       "      <td>0.940986</td>\n",
       "    </tr>\n",
       "    <tr>\n",
       "      <th>sq_deepbnn</th>\n",
       "      <td>0.891790</td>\n",
       "      <td>0.843628</td>\n",
       "    </tr>\n",
       "  </tbody>\n",
       "</table>\n",
       "</div>"
      ],
      "text/plain": [
       "            train_conc  test_conc\n",
       "sq_coxph      0.508876   0.587805\n",
       "sq_rsf        0.513094   0.441657\n",
       "sq_deepcox    0.946935   0.940986\n",
       "sq_deepbnn    0.891790   0.843628"
      ]
     },
     "execution_count": 93,
     "metadata": {},
     "output_type": "execute_result"
    }
   ],
   "source": [
    "sq_data_cen = eval_object(sq_data_train,sq_data_test,\"sq\")\n",
    "sq_data_cen.standscale_columns()\n",
    "sq_data_cen.fit_all_models()\n",
    "sq_data_cen.get_metrics()"
   ]
  },
  {
   "cell_type": "markdown",
   "metadata": {},
   "source": [
    "### Model with Multiple Variable and Squared Hazard"
   ]
  },
  {
   "cell_type": "code",
   "execution_count": 94,
   "metadata": {},
   "outputs": [
    {
     "name": "stdout",
     "output_type": "stream",
     "text": [
      "Number of data-points: 2000 - Number of events: 1332.0\n",
      "Number of data-points: 800 - Number of events: 550.0\n"
     ]
    }
   ],
   "source": [
    "sq_sim_mult_cen = SimulationModel(survival_distribution = 'exponential',\n",
    "                       risk_type = 'square',\n",
    "                       censored_parameter = 0.1,\n",
    "                       risk_parameter = 10)\n",
    "N = 2000\n",
    "\n",
    "sqmult_data_train = sq_sim_mult_cen.generate_data(num_samples = N, num_features=7).astype(\"float32\")\n",
    "sqmult_data_test = sq_sim_mult_cen.generate_data(num_samples = int(0.4*N), num_features=7).astype(\"float32\")"
   ]
  },
  {
   "cell_type": "code",
   "execution_count": 95,
   "metadata": {},
   "outputs": [
    {
     "name": "stderr",
     "output_type": "stream",
     "text": [
      " 46%|████▌     | 23/50 [00:00<00:00, 73.34it/s]\n",
      " 48%|████▊     | 24/50 [00:00<00:00, 68.36it/s]\n"
     ]
    },
    {
     "data": {
      "text/html": [
       "<div>\n",
       "<style scoped>\n",
       "    .dataframe tbody tr th:only-of-type {\n",
       "        vertical-align: middle;\n",
       "    }\n",
       "\n",
       "    .dataframe tbody tr th {\n",
       "        vertical-align: top;\n",
       "    }\n",
       "\n",
       "    .dataframe thead th {\n",
       "        text-align: right;\n",
       "    }\n",
       "</style>\n",
       "<table border=\"1\" class=\"dataframe\">\n",
       "  <thead>\n",
       "    <tr style=\"text-align: right;\">\n",
       "      <th></th>\n",
       "      <th>train_conc</th>\n",
       "      <th>test_conc</th>\n",
       "    </tr>\n",
       "  </thead>\n",
       "  <tbody>\n",
       "    <tr>\n",
       "      <th>sq_mult_coxph</th>\n",
       "      <td>0.565534</td>\n",
       "      <td>0.479439</td>\n",
       "    </tr>\n",
       "    <tr>\n",
       "      <th>sq_mult_rsf</th>\n",
       "      <td>0.900277</td>\n",
       "      <td>0.671411</td>\n",
       "    </tr>\n",
       "    <tr>\n",
       "      <th>sq_mult_deepcox</th>\n",
       "      <td>0.871472</td>\n",
       "      <td>0.815396</td>\n",
       "    </tr>\n",
       "    <tr>\n",
       "      <th>sq_mult_deepbnn</th>\n",
       "      <td>0.879600</td>\n",
       "      <td>0.884156</td>\n",
       "    </tr>\n",
       "  </tbody>\n",
       "</table>\n",
       "</div>"
      ],
      "text/plain": [
       "                 train_conc  test_conc\n",
       "sq_mult_coxph      0.565534   0.479439\n",
       "sq_mult_rsf        0.900277   0.671411\n",
       "sq_mult_deepcox    0.871472   0.815396\n",
       "sq_mult_deepbnn    0.879600   0.884156"
      ]
     },
     "execution_count": 95,
     "metadata": {},
     "output_type": "execute_result"
    }
   ],
   "source": [
    "sq_mult_cen = eval_object(sqmult_data_train,sqmult_data_test,\"sq_mult\")\n",
    "sq_mult_cen.standscale_columns()\n",
    "sq_mult_cen.fit_all_models()\n",
    "sq_mult_cen.get_metrics()"
   ]
  }
 ],
 "metadata": {
  "kernelspec": {
   "display_name": "Python 3 (ipykernel)",
   "language": "python",
   "name": "python3"
  },
  "language_info": {
   "codemirror_mode": {
    "name": "ipython",
    "version": 3
   },
   "file_extension": ".py",
   "mimetype": "text/x-python",
   "name": "python",
   "nbconvert_exporter": "python",
   "pygments_lexer": "ipython3",
   "version": "3.8.12"
  }
 },
 "nbformat": 4,
 "nbformat_minor": 1
}
